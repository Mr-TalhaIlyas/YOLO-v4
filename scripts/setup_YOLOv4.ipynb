{
 "cells": [
  {
   "cell_type": "markdown",
   "id": "f49783f1",
   "metadata": {},
   "source": [
    "# Setup Env for YOLO_v4\n",
    "This script needs to be run only once when you are setting up your env"
   ]
  },
  {
   "cell_type": "code",
   "execution_count": 3,
   "id": "6c35a7ee",
   "metadata": {},
   "outputs": [],
   "source": [
    "import os\n",
    "# select dir where to clone the repo\n",
    "os.chdir('/home/user01/data_ssd/Talha/yolo')"
   ]
  },
  {
   "cell_type": "code",
   "execution_count": 4,
   "id": "c7beca5f",
   "metadata": {},
   "outputs": [
    {
     "name": "stdout",
     "output_type": "stream",
     "text": [
      "Cloning into 'pytorch-YOLOv4'...\n",
      "remote: Enumerating objects: 398, done.\u001b[K\n",
      "remote: Total 398 (delta 0), reused 0 (delta 0), pack-reused 398\u001b[K\n",
      "Receiving objects: 100% (398/398), 926.53 KiB | 23.76 MiB/s, done.\n",
      "Resolving deltas: 100% (225/225), done.\n"
     ]
    }
   ],
   "source": [
    "!git clone https://github.com/roboflow-ai/pytorch-YOLOv4.git"
   ]
  },
  {
   "cell_type": "code",
   "execution_count": 5,
   "id": "5c6b5314",
   "metadata": {},
   "outputs": [
    {
     "name": "stdout",
     "output_type": "stream",
     "text": [
      "/home/user01/data_ssd/Talha/yolo/pytorch-YOLOv4\n",
      "\u001b[33mWARNING: Keyring is skipped due to an exception: Failed to unlock the collection!\u001b[0m\n",
      "Collecting numpy==1.18.2\n",
      "  Using cached numpy-1.18.2-cp36-cp36m-manylinux1_x86_64.whl (20.2 MB)\n",
      "Collecting torch==1.4.0\n",
      "  Using cached torch-1.4.0-cp36-cp36m-manylinux1_x86_64.whl (753.4 MB)\n",
      "Collecting scikit_image==0.16.2\n",
      "  Using cached scikit_image-0.16.2-cp36-cp36m-manylinux1_x86_64.whl (26.5 MB)\n",
      "Collecting matplotlib==2.2.3\n",
      "  Using cached matplotlib-2.2.3-cp36-cp36m-manylinux1_x86_64.whl (12.6 MB)\n",
      "Collecting tqdm==4.43.0\n",
      "  Using cached tqdm-4.43.0-py2.py3-none-any.whl (59 kB)\n",
      "Collecting easydict==1.9\n",
      "  Using cached easydict-1.9-py3-none-any.whl\n",
      "Collecting Pillow==7.1.2\n",
      "  Using cached Pillow-7.1.2-cp36-cp36m-manylinux1_x86_64.whl (2.1 MB)\n",
      "Collecting tensorboardX\n",
      "  Using cached tensorboardX-2.2-py2.py3-none-any.whl (120 kB)\n",
      "Requirement already satisfied: python-dateutil>=2.1 in /home/user01/anaconda3/envs/yolo4/lib/python3.6/site-packages (from matplotlib==2.2.3->-r requirements.txt (line 4)) (2.8.1)\n",
      "Collecting cycler>=0.10\n",
      "  Using cached cycler-0.10.0-py2.py3-none-any.whl (6.5 kB)\n",
      "Requirement already satisfied: pytz in /home/user01/anaconda3/envs/yolo4/lib/python3.6/site-packages (from matplotlib==2.2.3->-r requirements.txt (line 4)) (2021.1)\n",
      "Requirement already satisfied: six>=1.10 in /home/user01/anaconda3/envs/yolo4/lib/python3.6/site-packages (from matplotlib==2.2.3->-r requirements.txt (line 4)) (1.15.0)\n",
      "Requirement already satisfied: pyparsing!=2.0.4,!=2.1.2,!=2.1.6,>=2.0.1 in /home/user01/anaconda3/envs/yolo4/lib/python3.6/site-packages (from matplotlib==2.2.3->-r requirements.txt (line 4)) (2.4.7)\n",
      "Collecting kiwisolver>=1.0.1\n",
      "  Using cached kiwisolver-1.3.1-cp36-cp36m-manylinux1_x86_64.whl (1.1 MB)\n",
      "Collecting networkx>=2.0\n",
      "  Using cached networkx-2.5.1-py3-none-any.whl (1.6 MB)\n",
      "Collecting scipy>=0.19.0\n",
      "  Using cached scipy-1.5.4-cp36-cp36m-manylinux1_x86_64.whl (25.9 MB)\n",
      "Collecting imageio>=2.3.0\n",
      "  Using cached imageio-2.9.0-py3-none-any.whl (3.3 MB)\n",
      "Collecting PyWavelets>=0.4.0\n",
      "  Using cached PyWavelets-1.1.1-cp36-cp36m-manylinux1_x86_64.whl (4.4 MB)\n",
      "Collecting decorator<5,>=4.3\n",
      "  Using cached decorator-4.4.2-py2.py3-none-any.whl (9.2 kB)\n",
      "Collecting protobuf>=3.8.0\n",
      "  Using cached protobuf-3.15.8-cp36-cp36m-manylinux1_x86_64.whl (1.0 MB)\n",
      "Installing collected packages: Pillow, numpy, kiwisolver, decorator, cycler, scipy, PyWavelets, protobuf, networkx, matplotlib, imageio, tqdm, torch, tensorboardX, scikit-image, easydict\n",
      "  Attempting uninstall: decorator\n",
      "    Found existing installation: decorator 5.0.6\n",
      "    Uninstalling decorator-5.0.6:\n",
      "      Successfully uninstalled decorator-5.0.6\n",
      "Successfully installed Pillow-7.1.2 PyWavelets-1.1.1 cycler-0.10.0 decorator-4.4.2 easydict-1.9 imageio-2.9.0 kiwisolver-1.3.1 matplotlib-2.2.3 networkx-2.5.1 numpy-1.18.2 protobuf-3.15.8 scikit-image-0.16.2 scipy-1.5.4 tensorboardX-2.2 torch-1.4.0 tqdm-4.43.0\n"
     ]
    }
   ],
   "source": [
    "%cd /home/user01/data_ssd/Talha/yolo/pytorch-YOLOv4/\n",
    "!pip install -r requirements.txt\n",
    "\n",
    "# This restarts the runtime--ignore any error messages\n",
    "# import os\n",
    "# os.kill(os.getpid(), 9)"
   ]
  },
  {
   "cell_type": "code",
   "execution_count": 7,
   "id": "2fab71f4",
   "metadata": {},
   "outputs": [
    {
     "name": "stdout",
     "output_type": "stream",
     "text": [
      "\u001b[33mWARNING: Keyring is skipped due to an exception: Failed to unlock the collection!\u001b[0m\n",
      "Collecting gdown\n",
      "  Using cached gdown-3.12.2-py3-none-any.whl\n",
      "Requirement already satisfied: six in /home/user01/anaconda3/envs/yolo4/lib/python3.6/site-packages (from gdown) (1.15.0)\n",
      "Requirement already satisfied: requests[socks] in /home/user01/anaconda3/envs/yolo4/lib/python3.6/site-packages (from gdown) (2.25.1)\n",
      "Requirement already satisfied: tqdm in /home/user01/anaconda3/envs/yolo4/lib/python3.6/site-packages (from gdown) (4.43.0)\n",
      "Collecting filelock\n",
      "  Using cached filelock-3.0.12-py3-none-any.whl (7.6 kB)\n",
      "Requirement already satisfied: idna<3,>=2.5 in /home/user01/anaconda3/envs/yolo4/lib/python3.6/site-packages (from requests[socks]->gdown) (2.10)\n",
      "Requirement already satisfied: urllib3<1.27,>=1.21.1 in /home/user01/anaconda3/envs/yolo4/lib/python3.6/site-packages (from requests[socks]->gdown) (1.26.4)\n",
      "Requirement already satisfied: chardet<5,>=3.0.2 in /home/user01/anaconda3/envs/yolo4/lib/python3.6/site-packages (from requests[socks]->gdown) (4.0.0)\n",
      "Requirement already satisfied: certifi>=2017.4.17 in /home/user01/anaconda3/envs/yolo4/lib/python3.6/site-packages (from requests[socks]->gdown) (2020.6.20)\n",
      "Requirement already satisfied: PySocks!=1.5.7,>=1.5.6 in /home/user01/anaconda3/envs/yolo4/lib/python3.6/site-packages (from requests[socks]->gdown) (1.7.1)\n",
      "Installing collected packages: filelock, gdown\n",
      "Successfully installed filelock-3.0.12 gdown-3.12.2\n",
      "Note: you may need to restart the kernel to use updated packages.\n"
     ]
    }
   ],
   "source": [
    "# to download weights from google drive\n",
    "pip install gdown"
   ]
  },
  {
   "cell_type": "code",
   "execution_count": 8,
   "id": "8361399a",
   "metadata": {},
   "outputs": [
    {
     "name": "stdout",
     "output_type": "stream",
     "text": [
      "/home/user01/data_ssd/Talha/yolo/pytorch-YOLOv4/cfg\n",
      "Downloading...\n",
      "From: https://drive.google.com/uc?id=1fcbR0bWzYfIEdLJPzOsn4R5mlvR6IQyA\n",
      "To: /home/user01/data_ssd/Talha/yolo/pytorch-YOLOv4/cfg/yolov4.conv.137.pth\n",
      "170MB [00:07, 21.6MB/s] \n"
     ]
    }
   ],
   "source": [
    "# download yolov4 weights that have already been converted to PyTorch\n",
    "%cd /home/user01/data_ssd/Talha/yolo/pytorch-YOLOv4/cfg/\n",
    "!gdown https://drive.google.com/uc?id=1fcbR0bWzYfIEdLJPzOsn4R5mlvR6IQyA"
   ]
  },
  {
   "cell_type": "code",
   "execution_count": null,
   "id": "84b233bc",
   "metadata": {},
   "outputs": [],
   "source": [
    "conda install -c anaconda opencv"
   ]
  }
 ],
 "metadata": {
  "kernelspec": {
   "display_name": "Python 3",
   "language": "python",
   "name": "python3"
  },
  "language_info": {
   "codemirror_mode": {
    "name": "ipython",
    "version": 3
   },
   "file_extension": ".py",
   "mimetype": "text/x-python",
   "name": "python",
   "nbconvert_exporter": "python",
   "pygments_lexer": "ipython3",
   "version": "3.6.9"
  }
 },
 "nbformat": 4,
 "nbformat_minor": 5
}
